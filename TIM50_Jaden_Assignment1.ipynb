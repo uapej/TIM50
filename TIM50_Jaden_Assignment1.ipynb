{
  "nbformat": 4,
  "nbformat_minor": 0,
  "metadata": {
    "colab": {
      "provenance": [],
      "authorship_tag": "ABX9TyM+pG3GRfncE2vZmuiqhW1X",
      "include_colab_link": true
    },
    "kernelspec": {
      "name": "python3",
      "display_name": "Python 3"
    },
    "language_info": {
      "name": "python"
    }
  },
  "cells": [
    {
      "cell_type": "markdown",
      "metadata": {
        "id": "view-in-github",
        "colab_type": "text"
      },
      "source": [
        "<a href=\"https://colab.research.google.com/github/uapej/TIM50/blob/main/TIM50_Jaden_Assignment1.ipynb\" target=\"_parent\"><img src=\"https://colab.research.google.com/assets/colab-badge.svg\" alt=\"Open In Colab\"/></a>"
      ]
    },
    {
      "cell_type": "code",
      "execution_count": 3,
      "metadata": {
        "id": "Jz7CNQYJDE2b"
      },
      "outputs": [],
      "source": [
        "# Imports and sets everything up\n",
        "import sqlalchemy\n",
        "engine = sqlalchemy.create_engine('sqlite:///myDB.db')\n",
        "con = engine.raw_connection()\n",
        "cursor = con.cursor()"
      ]
    },
    {
      "cell_type": "code",
      "source": [
        "# Creates table\n",
        "q = '''CREATE TABLE IF NOT EXISTS Flights\n",
        "(ID INTEGER PRIMARY KEY, Name TEXT, Origin TEXT, Destination TEXT);'''\n",
        "cursor.execute(q) ;\n",
        "con.commit();"
      ],
      "metadata": {
        "id": "tJPSq51pDXJt"
      },
      "execution_count": 4,
      "outputs": []
    },
    {
      "cell_type": "code",
      "source": [
        "import pandas as pd"
      ],
      "metadata": {
        "id": "NJtmmILKJTRO"
      },
      "execution_count": 5,
      "outputs": []
    },
    {
      "cell_type": "code",
      "source": [
        "# created my own csv in google sheets to insert into table (may be attached in my assignment if I figure it out)\n",
        "data = pd.read_csv('NewFlights - Sheet1.csv')\n",
        "data.to_sql('Flights', con, if_exists='append', index=False)"
      ],
      "metadata": {
        "id": "k4TRARTQJUu7"
      },
      "execution_count": 7,
      "outputs": []
    },
    {
      "cell_type": "code",
      "source": [
        "# prints all rows and columns in table\n",
        "for row in cursor.execute(\"SELECT * FROM Flights;\"): print(row)"
      ],
      "metadata": {
        "colab": {
          "base_uri": "https://localhost:8080/"
        },
        "id": "63WP4PW3LMM-",
        "outputId": "13e712e9-cf1c-4137-baf6-c5a7c3391c04"
      },
      "execution_count": 8,
      "outputs": [
        {
          "output_type": "stream",
          "name": "stdout",
          "text": [
            "(20, 'UA', 'San Jose', 'London')\n",
            "(21, 'UB', 'New York', 'London')\n",
            "(22, 'UC', 'San Jose', 'London')\n",
            "(23, 'UD', 'San Diego', 'Singapore')\n",
            "(24, 'UE', 'Orlando', 'Miami')\n",
            "(25, 'UF', 'Los Angeles', 'Miami')\n"
          ]
        }
      ]
    },
    {
      "cell_type": "code",
      "source": [
        "# prints column names and data types\n",
        "for row in cursor.execute(\"PRAGMA table_info('Flights');\"): print(row)"
      ],
      "metadata": {
        "colab": {
          "base_uri": "https://localhost:8080/"
        },
        "id": "H3Nx1LsvNjFa",
        "outputId": "d03de0fa-16ba-42c1-cb83-341b04e23fa5"
      },
      "execution_count": 9,
      "outputs": [
        {
          "output_type": "stream",
          "name": "stdout",
          "text": [
            "(0, 'ID', 'INTEGER', 0, None, 1)\n",
            "(1, 'Name', 'TEXT', 0, None, 0)\n",
            "(2, 'Origin', 'TEXT', 0, None, 0)\n",
            "(3, 'Destination', 'TEXT', 0, None, 0)\n"
          ]
        }
      ]
    },
    {
      "cell_type": "code",
      "source": [
        "# creates another table for specifications\n",
        "q = '''CREATE TABLE IF NOT EXISTS Specification\n",
        "(specID INTEGER PRIMARY KEY, SeatQuantity INTEGER, Type TEXT, ID INTEGER);'''\n",
        "cursor.execute(q) ;\n",
        "con.commit();"
      ],
      "metadata": {
        "id": "RUS6LXG6LUpf"
      },
      "execution_count": 10,
      "outputs": []
    },
    {
      "cell_type": "code",
      "source": [
        "# created my own csv once again\n",
        "data = pd.read_csv('Specifications - Sheet1 (1).csv')\n",
        "data.to_sql('Specification', con, if_exists='append', index=False)"
      ],
      "metadata": {
        "id": "HmVULYRNMBIu"
      },
      "execution_count": 11,
      "outputs": []
    },
    {
      "cell_type": "code",
      "source": [
        "# prints all rows and columns\n",
        "for row in cursor.execute(\"SELECT * FROM Specification;\"): print(row)"
      ],
      "metadata": {
        "colab": {
          "base_uri": "https://localhost:8080/"
        },
        "id": "hogo9pqjM4Qp",
        "outputId": "0149f867-3a88-4f87-b312-83d10bf504d6"
      },
      "execution_count": 12,
      "outputs": [
        {
          "output_type": "stream",
          "name": "stdout",
          "text": [
            "(1, 500, 'Commercial', 20)\n",
            "(2, 200, 'Commercial', 21)\n",
            "(3, 100, 'Charter', 22)\n",
            "(4, 10, 'Private', 23)\n"
          ]
        }
      ]
    },
    {
      "cell_type": "code",
      "source": [
        "# prints column names and data types\n",
        "for row in cursor.execute(\"PRAGMA table_info('Specification');\"): print(row)"
      ],
      "metadata": {
        "colab": {
          "base_uri": "https://localhost:8080/"
        },
        "id": "fPaLMhVgNrM2",
        "outputId": "3cd83fe3-e007-4e5e-96bc-cffe1002a0a5"
      },
      "execution_count": 13,
      "outputs": [
        {
          "output_type": "stream",
          "name": "stdout",
          "text": [
            "(0, 'specID', 'INTEGER', 0, None, 1)\n",
            "(1, 'SeatQuantity', 'INTEGER', 0, None, 0)\n",
            "(2, 'Type', 'TEXT', 0, None, 0)\n",
            "(3, 'ID', 'INTEGER', 0, None, 0)\n"
          ]
        }
      ]
    },
    {
      "cell_type": "code",
      "source": [
        "# using inner join\n",
        "q = '''SELECT Flights.Name, Flights.Origin, Flights.Destination, Specification.specID, Specification.SeatQuantity, Specification.Type\n",
        "FROM Flights INNER JOIN Specification ON Flights.ID=Specification.ID'''"
      ],
      "metadata": {
        "id": "iBeJGsoOjyLV"
      },
      "execution_count": 14,
      "outputs": []
    },
    {
      "cell_type": "code",
      "source": [
        "for row in cursor.execute(q):print(row)"
      ],
      "metadata": {
        "colab": {
          "base_uri": "https://localhost:8080/"
        },
        "id": "--dZV3RFlNsN",
        "outputId": "cede7f81-809d-475c-f424-a611b85182a4"
      },
      "execution_count": 15,
      "outputs": [
        {
          "output_type": "stream",
          "name": "stdout",
          "text": [
            "('UA', 'San Jose', 'London', 1, 500, 'Commercial')\n",
            "('UB', 'New York', 'London', 2, 200, 'Commercial')\n",
            "('UC', 'San Jose', 'London', 3, 100, 'Charter')\n",
            "('UD', 'San Diego', 'Singapore', 4, 10, 'Private')\n"
          ]
        }
      ]
    },
    {
      "cell_type": "code",
      "source": [
        "# using left join\n",
        "q = '''SELECT Flights.Name, Flights.Origin, Flights.Destination, Specification.specID, Specification.SeatQuantity, Specification.Type\n",
        "FROM Flights LEFT JOIN Specification ON Flights.ID=Specification.ID'''"
      ],
      "metadata": {
        "id": "Hs3Yx7PIl0Q-"
      },
      "execution_count": 16,
      "outputs": []
    },
    {
      "cell_type": "code",
      "source": [
        "for row in cursor.execute(q):print(row)"
      ],
      "metadata": {
        "colab": {
          "base_uri": "https://localhost:8080/"
        },
        "id": "mXpwp_Akl1Tb",
        "outputId": "656385ba-8c62-4489-e1ac-c53375730f8c"
      },
      "execution_count": 17,
      "outputs": [
        {
          "output_type": "stream",
          "name": "stdout",
          "text": [
            "('UA', 'San Jose', 'London', 1, 500, 'Commercial')\n",
            "('UB', 'New York', 'London', 2, 200, 'Commercial')\n",
            "('UC', 'San Jose', 'London', 3, 100, 'Charter')\n",
            "('UD', 'San Diego', 'Singapore', 4, 10, 'Private')\n",
            "('UE', 'Orlando', 'Miami', None, None, None)\n",
            "('UF', 'Los Angeles', 'Miami', None, None, None)\n"
          ]
        }
      ]
    },
    {
      "cell_type": "code",
      "source": [
        "# using left join to find flights with greater than 100 seats\n",
        "q = '''SELECT Flights.Name, Flights.Origin, Flights.Destination, Specification.specID, Specification.SeatQuantity, Specification.Type \n",
        "FROM Flights LEFT JOIN Specification ON Flights.ID=Specification.ID\n",
        "WHERE Specification.SeatQuantity>100;'''"
      ],
      "metadata": {
        "id": "xR6QDsTgl1VR"
      },
      "execution_count": 18,
      "outputs": []
    },
    {
      "cell_type": "code",
      "source": [
        "for row in cursor.execute(q): print(row)"
      ],
      "metadata": {
        "colab": {
          "base_uri": "https://localhost:8080/"
        },
        "id": "YCi30zxcl1ZV",
        "outputId": "03d2f801-22ba-42a9-fde4-dfd4cdbb3527"
      },
      "execution_count": 19,
      "outputs": [
        {
          "output_type": "stream",
          "name": "stdout",
          "text": [
            "('UA', 'San Jose', 'London', 1, 500, 'Commercial')\n",
            "('UB', 'New York', 'London', 2, 200, 'Commercial')\n"
          ]
        }
      ]
    }
  ]
}