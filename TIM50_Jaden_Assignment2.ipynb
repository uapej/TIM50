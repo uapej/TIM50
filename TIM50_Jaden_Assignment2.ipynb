{
  "nbformat": 4,
  "nbformat_minor": 0,
  "metadata": {
    "colab": {
      "provenance": [],
      "authorship_tag": "ABX9TyMCd9h9xLMzM7TUg4J7zavB",
      "include_colab_link": true
    },
    "kernelspec": {
      "name": "python3",
      "display_name": "Python 3"
    },
    "language_info": {
      "name": "python"
    }
  },
  "cells": [
    {
      "cell_type": "markdown",
      "metadata": {
        "id": "view-in-github",
        "colab_type": "text"
      },
      "source": [
        "<a href=\"https://colab.research.google.com/github/uapej/TIM50/blob/main/TIM50_Jaden_Assignment2.ipynb\" target=\"_parent\"><img src=\"https://colab.research.google.com/assets/colab-badge.svg\" alt=\"Open In Colab\"/></a>"
      ]
    },
    {
      "cell_type": "code",
      "execution_count": 1,
      "metadata": {
        "id": "Rv211r6YyDji"
      },
      "outputs": [],
      "source": [
        "# Imports and sets everything up\n",
        "import sqlalchemy\n",
        "engine = sqlalchemy.create_engine('sqlite:///myDB')\n",
        "con = engine.raw_connection()\n",
        "cursor = con.cursor()"
      ]
    },
    {
      "cell_type": "code",
      "source": [
        "# creates table \"flights\"\n",
        "cursor.execute(\"CREATE TABLE flights(Depart_Time TIME, Origin TEXT, Arrival_Time TIME, Destination TEXT, Flight VARCHAR, Aircraft VARCHAR, Stops VARCHAR, hours INT, minutes INT, duration FLOAT, codeshare INT);\")"
      ],
      "metadata": {
        "colab": {
          "base_uri": "https://localhost:8080/"
        },
        "id": "MnHhmCo7zO7s",
        "outputId": "f532b6f6-7f8b-4433-ec3c-39f75416d1d6"
      },
      "execution_count": 2,
      "outputs": [
        {
          "output_type": "execute_result",
          "data": {
            "text/plain": [
              "<sqlite3.Cursor at 0x7f77779689d0>"
            ]
          },
          "metadata": {},
          "execution_count": 2
        }
      ]
    },
    {
      "cell_type": "code",
      "source": [
        "# import to transfer data to table\n",
        "import pandas as pd"
      ],
      "metadata": {
        "id": "cmDQCF4b5PQt"
      },
      "execution_count": 3,
      "outputs": []
    },
    {
      "cell_type": "code",
      "source": [
        "# transferring data to table\n",
        "data = pd.read_csv('flights-2 (1).csv')\n",
        "data.to_sql('flights', con, if_exists='append', index=False)"
      ],
      "metadata": {
        "id": "Lln1tOqt5bPS"
      },
      "execution_count": 4,
      "outputs": []
    },
    {
      "cell_type": "code",
      "source": [
        "# creates table \"aircrafts\"\n",
        "cursor.execute(\"CREATE TABLE aircrafts(Aircraft VARCHAR, Seats INT);\")"
      ],
      "metadata": {
        "colab": {
          "base_uri": "https://localhost:8080/"
        },
        "id": "QonxxhZapqDH",
        "outputId": "46afec42-0bbb-4b28-f613-a11742bdf2ed"
      },
      "execution_count": 6,
      "outputs": [
        {
          "output_type": "execute_result",
          "data": {
            "text/plain": [
              "<sqlite3.Cursor at 0x7f77779689d0>"
            ]
          },
          "metadata": {},
          "execution_count": 6
        }
      ]
    },
    {
      "cell_type": "code",
      "source": [
        "# transfers data to table\n",
        "data = pd.read_csv('aircrafts.csv')\n",
        "data.to_sql('aircrafts', con, if_exists='append', index=False)"
      ],
      "metadata": {
        "id": "BKWC5Ou4qGP2"
      },
      "execution_count": 7,
      "outputs": []
    },
    {
      "cell_type": "code",
      "source": [
        "# gets first 5 rows from flights\n",
        "for row in cursor.execute(\"SELECT * FROM flights LIMIT 5;\"): print(row)"
      ],
      "metadata": {
        "colab": {
          "base_uri": "https://localhost:8080/"
        },
        "id": "JodYHPJurkrK",
        "outputId": "816f58f0-259b-4c47-ed1f-f3bcb9484e97"
      },
      "execution_count": 8,
      "outputs": [
        {
          "output_type": "stream",
          "name": "stdout",
          "text": [
            "('12:10', 'MUC', '19:38', 'SFO', 'UA 907 ', '763', '1', 16, 28, 16.47, None)\n",
            "('10:35', 'TPE', '8:06', 'SFO', 'UA 830 ', '777', '1', 13, 31, 13.52, None)\n",
            "('15:15', 'SYD', '9:38', 'SFO', 'UA 870 ', '744', 'Non-Stop', 13, 23, 13.38, None)\n",
            "('20:00', 'AKL', '11:15', 'SFO', 'NZ 008 ', '772', 'Non-Stop', 12, 15, 12.25, None)\n",
            "('15:50', 'MUC', '19:00', 'SFO', 'LH 458 ', '346', 'Non-Stop', 12, 10, 12.17, None)\n"
          ]
        }
      ]
    },
    {
      "cell_type": "code",
      "source": [
        "# gets first 5 rows from aircrafts\n",
        "for row in cursor.execute(\"SELECT * FROM aircrafts LIMIT 5;\"): print(row)"
      ],
      "metadata": {
        "colab": {
          "base_uri": "https://localhost:8080/"
        },
        "id": "3-S3UyPbrrzn",
        "outputId": "82cefb63-d3c7-4c3b-bb69-8de289d47b9e"
      },
      "execution_count": 9,
      "outputs": [
        {
          "output_type": "stream",
          "name": "stdout",
          "text": [
            "('737', 124)\n",
            "('733', 124)\n",
            "('319', 124)\n",
            "('73G', 124)\n",
            "('735', 104)\n"
          ]
        }
      ]
    },
    {
      "cell_type": "code",
      "source": [
        "# prints columns and types\n",
        "for row in cursor.execute(\"PRAGMA table_info('flights');\"): print(row)"
      ],
      "metadata": {
        "colab": {
          "base_uri": "https://localhost:8080/"
        },
        "id": "slhE1krlr8o8",
        "outputId": "aca32578-7054-4620-b3cb-f2e676f2fb13"
      },
      "execution_count": 10,
      "outputs": [
        {
          "output_type": "stream",
          "name": "stdout",
          "text": [
            "(0, 'Depart_Time', 'TIME', 0, None, 0)\n",
            "(1, 'Origin', 'TEXT', 0, None, 0)\n",
            "(2, 'Arrival_Time', 'TIME', 0, None, 0)\n",
            "(3, 'Destination', 'TEXT', 0, None, 0)\n",
            "(4, 'Flight', 'VARCHAR', 0, None, 0)\n",
            "(5, 'Aircraft', 'VARCHAR', 0, None, 0)\n",
            "(6, 'Stops', 'VARCHAR', 0, None, 0)\n",
            "(7, 'hours', 'INT', 0, None, 0)\n",
            "(8, 'minutes', 'INT', 0, None, 0)\n",
            "(9, 'duration', 'FLOAT', 0, None, 0)\n",
            "(10, 'codeshare', 'INT', 0, None, 0)\n"
          ]
        }
      ]
    },
    {
      "cell_type": "code",
      "source": [
        "# prints columns and types\n",
        "for row in cursor.execute(\"PRAGMA table_info('aircrafts');\"): print(row)"
      ],
      "metadata": {
        "colab": {
          "base_uri": "https://localhost:8080/"
        },
        "id": "vhCv1jt2sAqH",
        "outputId": "7b0954ea-31b8-4296-f6f3-363100fa54c2"
      },
      "execution_count": 11,
      "outputs": [
        {
          "output_type": "stream",
          "name": "stdout",
          "text": [
            "(0, 'Aircraft', 'VARCHAR', 0, None, 0)\n",
            "(1, 'Seats', 'INT', 0, None, 0)\n"
          ]
        }
      ]
    },
    {
      "cell_type": "code",
      "source": [
        "# prints total number of rows\n",
        "q = '''SELECT COUNT(*)\n",
        "FROM flights;'''\n",
        "cursor.execute(q)\n",
        "result = cursor.fetchall()\n",
        "print(result[-1][-1])"
      ],
      "metadata": {
        "colab": {
          "base_uri": "https://localhost:8080/"
        },
        "id": "rZdV23fGu-as",
        "outputId": "9be00e23-e56f-429a-c62e-41bf9cb7bd66"
      },
      "execution_count": 55,
      "outputs": [
        {
          "output_type": "stream",
          "name": "stdout",
          "text": [
            "893\n"
          ]
        }
      ]
    },
    {
      "cell_type": "code",
      "source": [
        "# prints total number of rows\n",
        "q = '''SELECT COUNT(*)\n",
        "FROM aircrafts;'''\n",
        "cursor.execute(q)\n",
        "result = cursor.fetchall()\n",
        "print(result[-1][-1])"
      ],
      "metadata": {
        "colab": {
          "base_uri": "https://localhost:8080/"
        },
        "id": "V0IuNLzl3q9u",
        "outputId": "bbf06483-1e6c-489d-caa6-ece0dca50868"
      },
      "execution_count": 56,
      "outputs": [
        {
          "output_type": "stream",
          "name": "stdout",
          "text": [
            "34\n"
          ]
        }
      ]
    },
    {
      "cell_type": "code",
      "source": [
        "# prints number of distinct values\n",
        "q = '''SELECT COUNT(DISTINCT(Depart_Time))\n",
        "FROM flights;'''\n",
        "cursor.execute(q)\n",
        "result = cursor.fetchall()\n",
        "print(result[-1][-1])"
      ],
      "metadata": {
        "colab": {
          "base_uri": "https://localhost:8080/"
        },
        "id": "I4on5o005H_K",
        "outputId": "97d3b5c9-0bd1-420b-dde4-eb0211808088"
      },
      "execution_count": 60,
      "outputs": [
        {
          "output_type": "stream",
          "name": "stdout",
          "text": [
            "286\n"
          ]
        }
      ]
    },
    {
      "cell_type": "code",
      "source": [
        "# prints number of distinct values\n",
        "q = '''SELECT COUNT(DISTINCT(Origin))\n",
        "FROM flights;'''\n",
        "cursor.execute(q)\n",
        "result = cursor.fetchall()\n",
        "print(result[-1][-1])"
      ],
      "metadata": {
        "colab": {
          "base_uri": "https://localhost:8080/"
        },
        "id": "qpl9ANL16lOG",
        "outputId": "9fd3aac6-9b05-45d0-a103-4c0c09b8d18b"
      },
      "execution_count": 61,
      "outputs": [
        {
          "output_type": "stream",
          "name": "stdout",
          "text": [
            "71\n"
          ]
        }
      ]
    },
    {
      "cell_type": "code",
      "source": [
        "# prints number of distinct values\n",
        "q = '''SELECT COUNT(DISTINCT(Arrival_Time))\n",
        "FROM flights;'''\n",
        "cursor.execute(q)\n",
        "result = cursor.fetchall()\n",
        "print(result[-1][-1])"
      ],
      "metadata": {
        "colab": {
          "base_uri": "https://localhost:8080/"
        },
        "id": "XgAnunJT6p-u",
        "outputId": "efb96020-9521-4c74-d136-e75b08a61b94"
      },
      "execution_count": 62,
      "outputs": [
        {
          "output_type": "stream",
          "name": "stdout",
          "text": [
            "302\n"
          ]
        }
      ]
    },
    {
      "cell_type": "code",
      "source": [
        "# prints number of distinct values\n",
        "q = '''SELECT COUNT(DISTINCT(Destination))\n",
        "FROM flights;'''\n",
        "cursor.execute(q)\n",
        "result = cursor.fetchall()\n",
        "print(result[-1][-1])\n",
        "q = '''SELECT COUNT(DISTINCT(Flight))\n",
        "FROM flights;'''\n",
        "cursor.execute(q)\n",
        "result = cursor.fetchall()\n",
        "print(result[-1][-1])\n",
        "q = '''SELECT COUNT(DISTINCT(Aircraft))\n",
        "FROM flights;'''\n",
        "cursor.execute(q)\n",
        "result = cursor.fetchall()\n",
        "print(result[-1][-1])\n",
        "q = '''SELECT COUNT(DISTINCT(Stops))\n",
        "FROM flights;'''\n",
        "cursor.execute(q)\n",
        "result = cursor.fetchall()\n",
        "print(result[-1][-1])\n",
        "q = '''SELECT COUNT(DISTINCT(hours))\n",
        "FROM flights;'''\n",
        "cursor.execute(q)\n",
        "result = cursor.fetchall()\n",
        "print(result[-1][-1])\n",
        "q = '''SELECT COUNT(DISTINCT(minutes))\n",
        "FROM flights;'''\n",
        "cursor.execute(q)\n",
        "result = cursor.fetchall()\n",
        "print(result[-1][-1])\n",
        "q = '''SELECT COUNT(DISTINCT(duration))\n",
        "FROM flights;'''\n",
        "cursor.execute(q)\n",
        "result = cursor.fetchall()\n",
        "print(result[-1][-1])\n",
        "q = '''SELECT COUNT(DISTINCT(codeshare))\n",
        "FROM flights;'''\n",
        "cursor.execute(q)\n",
        "result = cursor.fetchall()\n",
        "print(result[-1][-1])"
      ],
      "metadata": {
        "colab": {
          "base_uri": "https://localhost:8080/"
        },
        "id": "ANCtjK2F6tSS",
        "outputId": "9086792d-7d4c-436e-bcfa-9f1f7f2921e7"
      },
      "execution_count": 63,
      "outputs": [
        {
          "output_type": "stream",
          "name": "stdout",
          "text": [
            "1\n",
            "869\n",
            "32\n",
            "2\n",
            "15\n",
            "56\n",
            "186\n",
            "1\n"
          ]
        }
      ]
    },
    {
      "cell_type": "code",
      "source": [
        "# drops tables\n",
        "q = \"DROP TABLE IF EXISTS flights;\"\n",
        "cursor.execute(q) ;\n",
        "con.commit();\n",
        "q = \"DROP TABLE IF EXISTS aircrafts;\"\n",
        "cursor.execute(q) ;\n",
        "con.commit();"
      ],
      "metadata": {
        "id": "hxgv0myQ7PXT"
      },
      "execution_count": 64,
      "outputs": []
    },
    {
      "cell_type": "code",
      "source": [
        "# creates table flights\n",
        "q = \"\"\"CREATE TABLE IF NOT EXISTS flights\n",
        "(Depart_Time TIME, Origin TEXT, Arrival_Time TIME, Destination TEXT, Flight VARCHAR, Aircraft VARCHAR, Stops VARCHAR, hours INT, minutes INT, duration FLOAT, codeshare INT,\n",
        "PRIMARY KEY(Depart_Time, Flight) );\"\"\"\n",
        "cursor.execute(q) ;\n",
        "con.commit();"
      ],
      "metadata": {
        "id": "V8oC_Mih7aNN"
      },
      "execution_count": 65,
      "outputs": []
    },
    {
      "cell_type": "code",
      "source": [
        "# creates table aircrafts\n",
        "q = \"\"\"CREATE TABLE IF NOT EXISTS aircrafts\n",
        "(Aircraft VARCHAR, Seats INT,\n",
        "PRIMARY KEY(Aircraft, Seats) );\"\"\"\n",
        "cursor.execute(q) ;\n",
        "con.commit();"
      ],
      "metadata": {
        "id": "-l782d9q78EZ"
      },
      "execution_count": 67,
      "outputs": []
    },
    {
      "cell_type": "code",
      "source": [
        "# transfers data to flights\n",
        "df = pd.read_csv('flights-2 (1).csv')\n",
        "df.to_sql('flights', con, if_exists='append', index = False)"
      ],
      "metadata": {
        "id": "H27UIG6eFaGT"
      },
      "execution_count": 76,
      "outputs": []
    },
    {
      "cell_type": "code",
      "source": [
        "# transfers data to aircrafts\n",
        "df = pd.read_csv('aircrafts.csv')\n",
        "df.to_sql('aircrafts', con, if_exists='append', index = False)"
      ],
      "metadata": {
        "id": "Kg4cPrG5Fiep"
      },
      "execution_count": 78,
      "outputs": []
    },
    {
      "cell_type": "code",
      "source": [
        "# number of people flying from DEN-SFO nonstop\n",
        "q = \"\"\"SELECT SUM(Seats)\n",
        "FROM flights LEFT JOIN aircrafts ON flights.Aircraft = aircrafts.Aircraft\n",
        "WHERE flights.Origin = 'DEN' AND flights.Destination = 'SFO' AND flights.Stops = 'Non-Stop';\"\"\"\n",
        "for row in cursor.execute(q): print(row)"
      ],
      "metadata": {
        "colab": {
          "base_uri": "https://localhost:8080/"
        },
        "id": "-LMh7v4K_Yur",
        "outputId": "ebefad67-5569-471e-852a-a85b3385a7de"
      },
      "execution_count": 79,
      "outputs": [
        {
          "output_type": "stream",
          "name": "stdout",
          "text": [
            "(6292,)\n"
          ]
        }
      ]
    },
    {
      "cell_type": "code",
      "source": [
        "# Max number of people arriving in SFO from DEN or SAN on a flight starting with '7'\n",
        "q = \"\"\"SELECT MAX(Seats)\n",
        "FROM flights LEFT JOIN aircrafts ON flights.Aircraft = aircrafts.Aircraft \n",
        "WHERE flights.Aircraft >= 700 AND flights.Aircraft <= 799 AND flights.Destination AND flights.Origin = 'DEN' OR flights.Origin = 'SAN';\"\"\"\n",
        "for row in cursor.execute(q): print(row)"
      ],
      "metadata": {
        "colab": {
          "base_uri": "https://localhost:8080/"
        },
        "id": "gO3fWqiMBcXG",
        "outputId": "91498f41-3ca5-468b-8fb1-408a86e07308"
      },
      "execution_count": 80,
      "outputs": [
        {
          "output_type": "stream",
          "name": "stdout",
          "text": [
            "(182,)\n"
          ]
        }
      ]
    }
  ]
}